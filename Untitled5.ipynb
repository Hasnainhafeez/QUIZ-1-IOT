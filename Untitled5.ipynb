{
  "nbformat": 4,
  "nbformat_minor": 0,
  "metadata": {
    "colab": {
      "name": "Untitled5.ipynb",
      "provenance": [],
      "collapsed_sections": []
    },
    "kernelspec": {
      "name": "python3",
      "display_name": "Python 3"
    },
    "language_info": {
      "name": "python"
    }
  },
  "cells": [
    {
      "cell_type": "code",
      "source": [
        "## question no 1 print all odd numbers\n",
        "king = []\n",
        "print(\"Enter 5 Numbers: \")\n",
        "for i in range(5):\n",
        "  king.insert(i, int(input()))\n",
        "\n",
        "print(\"\\nOdd Numbers: \")\n",
        "for i in range(5):\n",
        "  if n[i]%2!=0:5\n",
        "    print(n[i])"
      ],
      "metadata": {
        "colab": {
          "base_uri": "https://localhost:8080/"
        },
        "id": "wHqwHORBDbEZ",
        "outputId": "d43a74bc-d285-45d7-e13e-b4648e22fc89"
      },
      "execution_count": 14,
      "outputs": [
        {
          "output_type": "stream",
          "name": "stdout",
          "text": [
            "Enter 5 Numbers: \n",
            "5\n",
            "33\n",
            "22\n",
            "1\n",
            "10\n",
            "\n",
            "Odd Numbers: \n",
            "1\n",
            "3\n",
            "5\n",
            "7\n"
          ]
        }
      ]
    },
    {
      "cell_type": "code",
      "source": [
        "## question no 2 sum of list\n",
        "king=[]\n",
        "print(\"enter numbers: \")\n",
        "for i in range(5):\n",
        "  king.insert(i,int(input()))\n",
        "print(king)\n",
        "print(\"\\nsum of numbers is: \")\n",
        "print(sum(king))\n",
        "\n"
      ],
      "metadata": {
        "colab": {
          "base_uri": "https://localhost:8080/"
        },
        "id": "TZp5KLVwEJhg",
        "outputId": "8d3cebf3-5d6e-4f96-db5f-07f92ebfbe58"
      },
      "execution_count": 24,
      "outputs": [
        {
          "output_type": "stream",
          "name": "stdout",
          "text": [
            "enter numbers: \n",
            "33\n",
            "1\n",
            "22\n",
            "10\n",
            "22\n",
            "[33, 1, 22, 10, 22]\n",
            "\n",
            "sum of numbers is: \n",
            "88\n"
          ]
        }
      ]
    },
    {
      "cell_type": "code",
      "source": [
        "## Question no 3 revrse a program \n",
        "king=[]\n",
        "print(\"enter numbers: \")\n",
        "for i in range(5):\n",
        "  king.insert(i,int(input()))\n",
        "print(king)\n",
        "print(\"\\nreverse list is: \")\n",
        "king.reverse()\n",
        "print(king)"
      ],
      "metadata": {
        "colab": {
          "base_uri": "https://localhost:8080/"
        },
        "id": "uMRVvE1aGI8s",
        "outputId": "377c8f0e-2d6e-46eb-a0be-26916742f6bc"
      },
      "execution_count": 34,
      "outputs": [
        {
          "output_type": "stream",
          "name": "stdout",
          "text": [
            "enter numbers: \n",
            "1\n",
            "2\n",
            "3\n",
            "4\n",
            "5\n",
            "[1, 2, 3, 4, 5]\n",
            "\n",
            "reverse list is: \n",
            "[5, 4, 3, 2, 1]\n"
          ]
        }
      ]
    },
    {
      "cell_type": "code",
      "source": [
        "## Question 4 two maximum numbers\n",
        "king=[]\n",
        "print(\"enter numbers: \")\n",
        "for i in range(5):\n",
        "  king.insert(i,int(input()))\n",
        "print(king)\n",
        "print(\"two maximum numbers\")\n",
        "king.sort()\n",
        "print(\"sorted list\",king)\n",
        "print(king[-1:-3:-1])\n"
      ],
      "metadata": {
        "colab": {
          "base_uri": "https://localhost:8080/"
        },
        "id": "NlUTvDpLIQs6",
        "outputId": "be9d170a-ef75-4f5d-bf22-5fd55c71e313"
      },
      "execution_count": 52,
      "outputs": [
        {
          "output_type": "stream",
          "name": "stdout",
          "text": [
            "enter numbers: \n",
            "33\n",
            "11\n",
            "33\n",
            "5\n",
            "77\n",
            "[33, 11, 33, 5, 77]\n",
            "two maximum numbers\n",
            "sorted list [5, 11, 33, 33, 77]\n",
            "[77, 33]\n"
          ]
        }
      ]
    },
    {
      "cell_type": "code",
      "source": [
        "## question no 5 second highest\n",
        "king=[]\n",
        "print(\"enter numbers: \")\n",
        "for i in range(5):\n",
        "  king.insert(i,int(input()))\n",
        "print(king)"
      ],
      "metadata": {
        "id": "neoGuLUoKLaY"
      },
      "execution_count": null,
      "outputs": []
    },
    {
      "cell_type": "code",
      "source": [
        "##Question 6 sort characters\n",
        "king=[]\n",
        "print(\"enter character: \")\n",
        "for i in range(5):\n",
        "  king.insert(i,(input()))\n",
        "print(king)\n",
        "king.sort(reverse=True)\n",
        "\n",
        "print(king)"
      ],
      "metadata": {
        "colab": {
          "base_uri": "https://localhost:8080/"
        },
        "id": "SCCZkyU4Kbiv",
        "outputId": "49460280-1231-4a95-ff6b-8c1c495d84bc"
      },
      "execution_count": 45,
      "outputs": [
        {
          "output_type": "stream",
          "name": "stdout",
          "text": [
            "enter character: \n",
            "hasnain\n",
            "ali\n",
            "babar\n",
            "kohli\n",
            "cat\n",
            "['hasnain', 'ali', 'babar', 'kohli', 'cat']\n",
            "['kohli', 'hasnain', 'cat', 'babar', 'ali']\n"
          ]
        }
      ]
    },
    {
      "cell_type": "code",
      "source": [
        "##question 7\n",
        "king=[]\n",
        "print(\"enter character: \")\n",
        "for i in range(5):\n",
        "  king.insert(i,(input()))\n",
        "print(king)\n",
        "  \n",
        "res = []\n",
        "for i in king:\n",
        "    if i not in res:\n",
        "        res.append(i)\n",
        "   \n",
        "print (\"The list after removing duplicates : \" + str(res))"
      ],
      "metadata": {
        "colab": {
          "base_uri": "https://localhost:8080/"
        },
        "id": "B-gfiY1UK6F9",
        "outputId": "b6d5d728-21ce-44e7-af02-e123197955e7"
      },
      "execution_count": 62,
      "outputs": [
        {
          "output_type": "stream",
          "name": "stdout",
          "text": [
            "enter character: \n",
            "hasnain\n",
            "king\n",
            "hasnain\n",
            "ali\n",
            "oop\n",
            "['hasnain', 'king', 'hasnain', 'ali', 'oop']\n",
            "The list after removing duplicates : ['hasnain', 'king', 'ali', 'oop']\n"
          ]
        }
      ]
    },
    {
      "cell_type": "code",
      "source": [
        "## question 8 vowels\n",
        "king=input(\"enter a character: \")\n",
        "if(king==\"a\" or king==\"A\"):\n",
        "  print(\"its a vowel\")\n",
        "elif(king==\"e\" or king==\"E\"):\n",
        "   print(\"its a vowel\")\n",
        "elif(king==\"I\" or king==\"i\"):\n",
        "    print(\"its a vowel\")\n",
        "elif(king==\"u\" or king==\"U\"):\n",
        "  print(\"its a vowel\")\n",
        "elif(king==\"o\" or king==\"O\"):\n",
        "  print(\"its a vowel\")\n",
        "else:\n",
        "  print(\"its a consotant\")"
      ],
      "metadata": {
        "colab": {
          "base_uri": "https://localhost:8080/"
        },
        "id": "eF0qu0YyM2zl",
        "outputId": "fc589b8a-5455-436b-f506-4b16d13ae4fd"
      },
      "execution_count": 49,
      "outputs": [
        {
          "output_type": "stream",
          "name": "stdout",
          "text": [
            "enter a character: l\n",
            "its a consotant\n"
          ]
        }
      ]
    },
    {
      "cell_type": "code",
      "source": [
        "##question 9 add of list\n",
        "num =int(input(\"enter a number: \"))\n",
        "factorial = 1\n",
        "if num < 0:\n",
        "   print(\"factorial does not exist\")\n",
        "else:\n",
        "   for i in range(1,num + 1):\n",
        "       factorial = factorial*i\n",
        "   print(\"The factorial of\",num,\"is\",factorial)"
      ],
      "metadata": {
        "colab": {
          "base_uri": "https://localhost:8080/"
        },
        "id": "mSftP-llO7RZ",
        "outputId": "e172efd0-082b-440f-bd79-828ddffe8c35"
      },
      "execution_count": 64,
      "outputs": [
        {
          "output_type": "stream",
          "name": "stdout",
          "text": [
            "enter a number: 3\n",
            "The factorial of 3 is 6\n"
          ]
        }
      ]
    },
    {
      "cell_type": "code",
      "source": [
        "##question 10 add of list\n",
        "list1=['hasnain','ali','king']\n",
        "list2=['pakistan','india','malaysia']\n",
        "print(list1+list2)"
      ],
      "metadata": {
        "id": "XHLUIOnSSImn"
      },
      "execution_count": null,
      "outputs": []
    }
  ]
}